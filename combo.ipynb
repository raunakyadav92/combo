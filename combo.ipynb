{
  "nbformat": 4,
  "nbformat_minor": 0,
  "metadata": {
    "colab": {
      "provenance": [],
      "authorship_tag": "ABX9TyOPCqpNnZ+vIePFxpjNcoGj",
      "include_colab_link": true
    },
    "kernelspec": {
      "name": "python3",
      "display_name": "Python 3"
    },
    "language_info": {
      "name": "python"
    }
  },
  "cells": [
    {
      "cell_type": "markdown",
      "metadata": {
        "id": "view-in-github",
        "colab_type": "text"
      },
      "source": [
        "<a href=\"https://colab.research.google.com/github/raunakyadav92/combo/blob/main/combo.ipynb\" target=\"_parent\"><img src=\"https://colab.research.google.com/assets/colab-badge.svg\" alt=\"Open In Colab\"/></a>"
      ]
    },
    {
      "cell_type": "code",
      "execution_count": 1,
      "metadata": {
        "colab": {
          "base_uri": "https://localhost:8080/"
        },
        "id": "Aw2SVCAIt_WC",
        "outputId": "e8a30329-7fe2-4dba-d08b-8536d0afb9b5"
      },
      "outputs": [
        {
          "output_type": "stream",
          "name": "stdout",
          "text": [
            "Total combos: 55\n",
            "('p1', 'p10', 'p11', 'p12', 'p2', 'p3', 'p7') → ₹ 295\n",
            "('p1', 'p10', 'p11', 'p14', 'p2', 'p4', 'p6', 'p8') → ₹ 295\n",
            "('p1', 'p10', 'p11', 'p14', 'p3', 'p4', 'p5', 'p7') → ₹ 305\n",
            "('p1', 'p10', 'p11', 'p14', 'p6', 'p8', 'p9') → ₹ 310\n",
            "('p1', 'p10', 'p11', 'p2', 'p3', 'p4', 'p5', 'p6', 'p8') → ₹ 300\n",
            "('p1', 'p10', 'p11', 'p2', 'p4', 'p5', 'p7', 'p9') → ₹ 310\n",
            "('p1', 'p10', 'p11', 'p3', 'p4', 'p5', 'p8', 'p9') → ₹ 305\n",
            "('p1', 'p10', 'p12', 'p13', 'p2', 'p3', 'p4', 'p6') → ₹ 310\n",
            "('p1', 'p10', 'p12', 'p13', 'p2', 'p3', 'p8') → ₹ 290\n",
            "('p1', 'p10', 'p12', 'p14', 'p2', 'p4', 'p5', 'p7') → ₹ 310\n",
            "('p1', 'p10', 'p12', 'p14', 'p2', 'p5', 'p6', 'p8') → ₹ 310\n",
            "('p1', 'p10', 'p12', 'p2', 'p3', 'p4', 'p6', 'p7') → ₹ 290\n",
            "('p1', 'p10', 'p12', 'p2', 'p3', 'p5', 'p7', 'p8') → ₹ 300\n",
            "('p1', 'p10', 'p13', 'p14', 'p6', 'p7', 'p8') → ₹ 310\n",
            "('p1', 'p10', 'p13', 'p3', 'p4', 'p5', 'p6', 'p7') → ₹ 300\n",
            "('p1', 'p10', 'p13', 'p3', 'p4', 'p5', 'p6', 'p8') → ₹ 290\n",
            "('p1', 'p10', 'p13', 'p3', 'p7', 'p8', 'p9') → ₹ 305\n",
            "('p1', 'p10', 'p14', 'p2', 'p4', 'p6', 'p7', 'p9') → ₹ 295\n",
            "('p1', 'p10', 'p2', 'p3', 'p4', 'p5', 'p6', 'p7', 'p9') → ₹ 300\n",
            "('p1', 'p10', 'p2', 'p3', 'p4', 'p5', 'p7', 'p8', 'p9') → ₹ 305\n",
            "('p1', 'p11', 'p12', 'p13', 'p3', 'p5', 'p8') → ₹ 310\n",
            "('p1', 'p11', 'p12', 'p14', 'p2', 'p3', 'p5', 'p6') → ₹ 295\n",
            "('p1', 'p11', 'p13', 'p14', 'p3', 'p7', 'p8') → ₹ 300\n",
            "('p1', 'p11', 'p13', 'p2', 'p3', 'p5', 'p6', 'p7') → ₹ 295\n",
            "('p1', 'p11', 'p13', 'p2', 'p4', 'p6', 'p7', 'p8') → ₹ 310\n",
            "('p1', 'p11', 'p14', 'p2', 'p3', 'p6', 'p7', 'p9') → ₹ 295\n",
            "('p1', 'p11', 'p2', 'p5', 'p6', 'p7', 'p8', 'p9') → ₹ 300\n",
            "('p1', 'p13', 'p14', 'p3', 'p5', 'p6', 'p7', 'p8') → ₹ 300\n",
            "('p10', 'p11', 'p12', 'p13', 'p6') → ₹ 305\n",
            "('p10', 'p11', 'p12', 'p14', 'p4', 'p5') → ₹ 300\n",
            "('p10', 'p11', 'p12', 'p2', 'p4', 'p5', 'p8') → ₹ 310\n",
            "('p10', 'p11', 'p13', 'p2', 'p5', 'p9') → ₹ 295\n",
            "('p10', 'p11', 'p13', 'p3', 'p4', 'p7') → ₹ 290\n",
            "('p10', 'p11', 'p4', 'p7', 'p8', 'p9') → ₹ 295\n",
            "('p10', 'p12', 'p13', 'p14', 'p3', 'p8') → ₹ 310\n",
            "('p10', 'p12', 'p13', 'p2', 'p3', 'p5', 'p8') → ₹ 310\n",
            "('p10', 'p12', 'p14', 'p3', 'p4', 'p5', 'p8') → ₹ 295\n",
            "('p10', 'p13', 'p14', 'p3', 'p8', 'p9') → ₹ 290\n",
            "('p10', 'p13', 'p2', 'p3', 'p5', 'p8', 'p9') → ₹ 290\n",
            "('p10', 'p13', 'p4', 'p5', 'p6', 'p7', 'p8') → ₹ 310\n",
            "('p10', 'p13', 'p5', 'p7', 'p8', 'p9') → ₹ 305\n",
            "('p10', 'p14', 'p2', 'p3', 'p5', 'p6', 'p7', 'p8') → ₹ 295\n",
            "('p10', 'p14', 'p3', 'p4', 'p5', 'p6', 'p7', 'p8') → ₹ 305\n",
            "('p11', 'p12', 'p13', 'p2', 'p4', 'p8') → ₹ 290\n",
            "('p11', 'p12', 'p2', 'p3', 'p5', 'p6', 'p7') → ₹ 290\n",
            "('p11', 'p12', 'p3', 'p4', 'p7', 'p9') → ₹ 290\n",
            "('p11', 'p13', 'p5', 'p6', 'p7', 'p9') → ₹ 305\n",
            "('p11', 'p14', 'p2', 'p4', 'p6', 'p7', 'p9') → ₹ 290\n",
            "('p12', 'p13', 'p3', 'p6', 'p7', 'p9') → ₹ 305\n",
            "('p12', 'p14', 'p2', 'p5', 'p6', 'p8', 'p9') → ₹ 295\n",
            "('p12', 'p14', 'p3', 'p4', 'p7', 'p8', 'p9') → ₹ 310\n",
            "('p12', 'p14', 'p4', 'p7', 'p8', 'p9') → ₹ 290\n",
            "('p12', 'p2', 'p3', 'p4', 'p5', 'p6', 'p8', 'p9') → ₹ 295\n",
            "('p12', 'p2', 'p4', 'p6', 'p7', 'p8', 'p9') → ₹ 295\n",
            "('p14', 'p2', 'p4', 'p5', 'p6', 'p7', 'p8', 'p9') → ₹ 295\n"
          ]
        }
      ],
      "source": [
        "import random as r\n",
        "\n",
        "# Product price dictionary\n",
        "products = {\n",
        "    'p1':10, 'p2':15, 'p3':20, 'p4':25, 'p5':30, 'p6':35, 'p7':50,\n",
        "    'p8':40, 'p9':55, 'p10':60, 'p11':65, 'p12':75, 'p13':70, 'p14':45\n",
        "}\n",
        "\n",
        "# Lower and Upper bounds for total price\n",
        "LB = 290\n",
        "UB = 310\n",
        "\n",
        "# To store unique valid combinations\n",
        "result = set()\n",
        "\n",
        "# Run 1000 random trials\n",
        "for _ in range(1000):\n",
        "    size = r.randint(2, len(products) - 1)\n",
        "    combo = r.sample(list(products), size)\n",
        "    total = sum(products[p] for p in combo)\n",
        "    if LB <= total <= UB:\n",
        "        result.add(tuple(sorted(combo)))  # Sorted to ensure uniqueness in set\n",
        "\n",
        "# Display the results\n",
        "print(f\"Total combos: {len(result)}\")\n",
        "for combo in sorted(result):\n",
        "    total = sum(products[p] for p in combo)\n",
        "    print(combo, \"→ ₹\", total)"
      ]
    }
  ]
}